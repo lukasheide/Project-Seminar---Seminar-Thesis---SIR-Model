{
 "cells": [
  {
   "cell_type": "markdown",
   "id": "fd7e0fbb",
   "metadata": {},
   "source": [
    "# First Attempt - Differential Equation Model"
   ]
  },
  {
   "cell_type": "code",
   "execution_count": 1,
   "id": "914e2554",
   "metadata": {},
   "outputs": [],
   "source": [
    "import numpy as np\n",
    "from scipy.integrate import odeint\n",
    "import matplotlib.pyplot as plt"
   ]
  },
  {
   "cell_type": "markdown",
   "id": "3f53298e",
   "metadata": {},
   "source": [
    "## 1) Import Data"
   ]
  },
  {
   "cell_type": "markdown",
   "id": "7b95e32e",
   "metadata": {},
   "source": [
    "To be implemented later"
   ]
  },
  {
   "cell_type": "markdown",
   "id": "57ddee56",
   "metadata": {},
   "source": [
    "## 2) Modeling"
   ]
  },
  {
   "cell_type": "markdown",
   "id": "b2cda5c0",
   "metadata": {},
   "source": [
    "### 2.1) Model setup"
   ]
  },
  {
   "cell_type": "code",
   "execution_count": null,
   "id": "399034ae",
   "metadata": {},
   "outputs": [],
   "source": []
  },
  {
   "cell_type": "code",
   "execution_count": null,
   "id": "fe898360",
   "metadata": {},
   "outputs": [],
   "source": []
  },
  {
   "cell_type": "code",
   "execution_count": null,
   "id": "a4d53423",
   "metadata": {},
   "outputs": [],
   "source": []
  },
  {
   "cell_type": "markdown",
   "id": "9805643d",
   "metadata": {},
   "source": [
    "### 2.2) Model fitting"
   ]
  },
  {
   "cell_type": "markdown",
   "id": "81663492",
   "metadata": {},
   "source": [
    "## 3) Visualization"
   ]
  },
  {
   "cell_type": "code",
   "execution_count": null,
   "id": "98448067",
   "metadata": {},
   "outputs": [],
   "source": []
  }
 ],
 "metadata": {
  "kernelspec": {
   "display_name": "Python 3",
   "language": "python",
   "name": "python3"
  },
  "language_info": {
   "codemirror_mode": {
    "name": "ipython",
    "version": 3
   },
   "file_extension": ".py",
   "mimetype": "text/x-python",
   "name": "python",
   "nbconvert_exporter": "python",
   "pygments_lexer": "ipython3",
   "version": "3.9.1"
  }
 },
 "nbformat": 4,
 "nbformat_minor": 5
}
